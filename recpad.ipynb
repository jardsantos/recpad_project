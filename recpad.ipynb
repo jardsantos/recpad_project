{
 "cells": [
  {
   "cell_type": "markdown",
   "metadata": {},
   "source": [
    "## Imports"
   ]
  },
  {
   "cell_type": "code",
   "execution_count": 50,
   "metadata": {},
   "outputs": [],
   "source": [
    "import pandas as pd\n",
    "import numpy as np\n",
    "import matplotlib.pyplot as plt\n",
    "from sklearn.linear_model import LogisticRegression\n",
    "from sklearn.preprocessing import StandardScaler\n",
    "from sklearn.model_selection import StratifiedKFold, cross_val_score, GridSearchCV\n",
    "from sklearn.svm import l1_min_c, LinearSVC\n",
    "from time import time\n",
    "from sklearn.metrics import accuracy_score, roc_auc_score, f1_score\n",
    "import warnings\n",
    "\n",
    "warnings.simplefilter('ignore')"
   ]
  },
  {
   "cell_type": "markdown",
   "metadata": {},
   "source": [
    "## Reading Data"
   ]
  },
  {
   "cell_type": "code",
   "execution_count": 2,
   "metadata": {},
   "outputs": [],
   "source": [
    "# Data Link\n",
    "data = 'https://archive.ics.uci.edu/ml/machine-learning-databases/00351/Mesothelioma%20data%20set.xlsx'"
   ]
  },
  {
   "cell_type": "code",
   "execution_count": 3,
   "metadata": {},
   "outputs": [
    {
     "name": "stdout",
     "output_type": "stream",
     "text": [
      "Column headings:\n",
      "Index(['age', 'gender', 'city', 'asbestos exposure', 'type of MM',\n",
      "       'duration of asbestos exposure', 'keep side', 'cytology',\n",
      "       'duration of symptoms', 'dyspnoea', 'ache on chest', 'weakness',\n",
      "       'habit of cigarette', 'performance status', 'white blood',\n",
      "       'cell count (WBC)', 'hemoglobin (HGB)', 'platelet count (PLT)',\n",
      "       'sedimentation', 'blood lactic dehydrogenise (LDH)',\n",
      "       'alkaline phosphatise (ALP)', 'total protein', 'albumin', 'glucose',\n",
      "       'pleural lactic dehydrogenise', 'pleural protein', 'pleural albumin',\n",
      "       'pleural glucose', 'dead or not', 'pleural effusion',\n",
      "       'pleural thickness on tomography', 'pleural level of acidity (pH)',\n",
      "       'C-reactive protein (CRP)', 'class of diagnosis'],\n",
      "      dtype='object')\n"
     ]
    }
   ],
   "source": [
    "df = pd.read_excel(data, sheet_name='Data').drop('diagnosis method', axis=1)\n",
    "\n",
    "print(\"Column headings:\")\n",
    "print(df.columns)"
   ]
  },
  {
   "cell_type": "code",
   "execution_count": 4,
   "metadata": {},
   "outputs": [
    {
     "data": {
      "text/html": [
       "<div>\n",
       "<style scoped>\n",
       "    .dataframe tbody tr th:only-of-type {\n",
       "        vertical-align: middle;\n",
       "    }\n",
       "\n",
       "    .dataframe tbody tr th {\n",
       "        vertical-align: top;\n",
       "    }\n",
       "\n",
       "    .dataframe thead th {\n",
       "        text-align: right;\n",
       "    }\n",
       "</style>\n",
       "<table border=\"1\" class=\"dataframe\">\n",
       "  <thead>\n",
       "    <tr style=\"text-align: right;\">\n",
       "      <th></th>\n",
       "      <th>age</th>\n",
       "      <th>gender</th>\n",
       "      <th>city</th>\n",
       "      <th>asbestos exposure</th>\n",
       "      <th>type of MM</th>\n",
       "      <th>duration of asbestos exposure</th>\n",
       "      <th>keep side</th>\n",
       "      <th>cytology</th>\n",
       "      <th>duration of symptoms</th>\n",
       "      <th>dyspnoea</th>\n",
       "      <th>...</th>\n",
       "      <th>pleural lactic dehydrogenise</th>\n",
       "      <th>pleural protein</th>\n",
       "      <th>pleural albumin</th>\n",
       "      <th>pleural glucose</th>\n",
       "      <th>dead or not</th>\n",
       "      <th>pleural effusion</th>\n",
       "      <th>pleural thickness on tomography</th>\n",
       "      <th>pleural level of acidity (pH)</th>\n",
       "      <th>C-reactive protein (CRP)</th>\n",
       "      <th>class of diagnosis</th>\n",
       "    </tr>\n",
       "  </thead>\n",
       "  <tbody>\n",
       "    <tr>\n",
       "      <th>0</th>\n",
       "      <td>47.0</td>\n",
       "      <td>1</td>\n",
       "      <td>0</td>\n",
       "      <td>1</td>\n",
       "      <td>0.0</td>\n",
       "      <td>20.0</td>\n",
       "      <td>0</td>\n",
       "      <td>1</td>\n",
       "      <td>24.0</td>\n",
       "      <td>1</td>\n",
       "      <td>...</td>\n",
       "      <td>289.0</td>\n",
       "      <td>0.0</td>\n",
       "      <td>0.00</td>\n",
       "      <td>79.0</td>\n",
       "      <td>1</td>\n",
       "      <td>0.0</td>\n",
       "      <td>0.0</td>\n",
       "      <td>0.0</td>\n",
       "      <td>34</td>\n",
       "      <td>1</td>\n",
       "    </tr>\n",
       "    <tr>\n",
       "      <th>1</th>\n",
       "      <td>55.0</td>\n",
       "      <td>1</td>\n",
       "      <td>0</td>\n",
       "      <td>1</td>\n",
       "      <td>0.0</td>\n",
       "      <td>45.0</td>\n",
       "      <td>0</td>\n",
       "      <td>0</td>\n",
       "      <td>1.0</td>\n",
       "      <td>1</td>\n",
       "      <td>...</td>\n",
       "      <td>7541.0</td>\n",
       "      <td>1.6</td>\n",
       "      <td>0.80</td>\n",
       "      <td>6.0</td>\n",
       "      <td>1</td>\n",
       "      <td>1.0</td>\n",
       "      <td>1.0</td>\n",
       "      <td>1.0</td>\n",
       "      <td>42</td>\n",
       "      <td>1</td>\n",
       "    </tr>\n",
       "    <tr>\n",
       "      <th>2</th>\n",
       "      <td>29.0</td>\n",
       "      <td>1</td>\n",
       "      <td>1</td>\n",
       "      <td>1</td>\n",
       "      <td>0.0</td>\n",
       "      <td>23.0</td>\n",
       "      <td>1</td>\n",
       "      <td>0</td>\n",
       "      <td>1.0</td>\n",
       "      <td>0</td>\n",
       "      <td>...</td>\n",
       "      <td>480.0</td>\n",
       "      <td>0.0</td>\n",
       "      <td>0.00</td>\n",
       "      <td>90.0</td>\n",
       "      <td>1</td>\n",
       "      <td>0.0</td>\n",
       "      <td>0.0</td>\n",
       "      <td>0.0</td>\n",
       "      <td>43</td>\n",
       "      <td>2</td>\n",
       "    </tr>\n",
       "    <tr>\n",
       "      <th>3</th>\n",
       "      <td>39.0</td>\n",
       "      <td>1</td>\n",
       "      <td>0</td>\n",
       "      <td>1</td>\n",
       "      <td>0.0</td>\n",
       "      <td>10.0</td>\n",
       "      <td>0</td>\n",
       "      <td>0</td>\n",
       "      <td>3.0</td>\n",
       "      <td>0</td>\n",
       "      <td>...</td>\n",
       "      <td>459.0</td>\n",
       "      <td>5.0</td>\n",
       "      <td>2.80</td>\n",
       "      <td>45.0</td>\n",
       "      <td>1</td>\n",
       "      <td>1.0</td>\n",
       "      <td>0.0</td>\n",
       "      <td>0.0</td>\n",
       "      <td>21</td>\n",
       "      <td>1</td>\n",
       "    </tr>\n",
       "    <tr>\n",
       "      <th>4</th>\n",
       "      <td>47.0</td>\n",
       "      <td>1</td>\n",
       "      <td>0</td>\n",
       "      <td>1</td>\n",
       "      <td>0.0</td>\n",
       "      <td>10.0</td>\n",
       "      <td>1</td>\n",
       "      <td>1</td>\n",
       "      <td>1.5</td>\n",
       "      <td>1</td>\n",
       "      <td>...</td>\n",
       "      <td>213.0</td>\n",
       "      <td>3.6</td>\n",
       "      <td>1.95</td>\n",
       "      <td>53.0</td>\n",
       "      <td>1</td>\n",
       "      <td>1.0</td>\n",
       "      <td>0.0</td>\n",
       "      <td>0.0</td>\n",
       "      <td>11</td>\n",
       "      <td>1</td>\n",
       "    </tr>\n",
       "  </tbody>\n",
       "</table>\n",
       "<p>5 rows × 34 columns</p>\n",
       "</div>"
      ],
      "text/plain": [
       "    age  gender  city  asbestos exposure  type of MM  \\\n",
       "0  47.0       1     0                  1         0.0   \n",
       "1  55.0       1     0                  1         0.0   \n",
       "2  29.0       1     1                  1         0.0   \n",
       "3  39.0       1     0                  1         0.0   \n",
       "4  47.0       1     0                  1         0.0   \n",
       "\n",
       "   duration of asbestos exposure  keep side  cytology  duration of symptoms  \\\n",
       "0                           20.0          0         1                  24.0   \n",
       "1                           45.0          0         0                   1.0   \n",
       "2                           23.0          1         0                   1.0   \n",
       "3                           10.0          0         0                   3.0   \n",
       "4                           10.0          1         1                   1.5   \n",
       "\n",
       "   dyspnoea         ...          pleural lactic dehydrogenise  \\\n",
       "0         1         ...                                 289.0   \n",
       "1         1         ...                                7541.0   \n",
       "2         0         ...                                 480.0   \n",
       "3         0         ...                                 459.0   \n",
       "4         1         ...                                 213.0   \n",
       "\n",
       "   pleural protein  pleural albumin  pleural glucose  dead or not  \\\n",
       "0              0.0             0.00             79.0            1   \n",
       "1              1.6             0.80              6.0            1   \n",
       "2              0.0             0.00             90.0            1   \n",
       "3              5.0             2.80             45.0            1   \n",
       "4              3.6             1.95             53.0            1   \n",
       "\n",
       "   pleural effusion  pleural thickness on tomography  \\\n",
       "0               0.0                              0.0   \n",
       "1               1.0                              1.0   \n",
       "2               0.0                              0.0   \n",
       "3               1.0                              0.0   \n",
       "4               1.0                              0.0   \n",
       "\n",
       "   pleural level of acidity (pH)  C-reactive protein (CRP)  class of diagnosis  \n",
       "0                            0.0                        34                   1  \n",
       "1                            1.0                        42                   1  \n",
       "2                            0.0                        43                   2  \n",
       "3                            0.0                        21                   1  \n",
       "4                            0.0                        11                   1  \n",
       "\n",
       "[5 rows x 34 columns]"
      ]
     },
     "execution_count": 4,
     "metadata": {},
     "output_type": "execute_result"
    }
   ],
   "source": [
    "df.head()"
   ]
  },
  {
   "cell_type": "markdown",
   "metadata": {},
   "source": [
    "Class of diagnosis: 1 = Health, 2 = Mesothelioma"
   ]
  },
  {
   "cell_type": "code",
   "execution_count": 5,
   "metadata": {},
   "outputs": [
    {
     "data": {
      "text/plain": [
       "1    228\n",
       "2     96\n",
       "Name: class of diagnosis, dtype: int64"
      ]
     },
     "execution_count": 5,
     "metadata": {},
     "output_type": "execute_result"
    }
   ],
   "source": [
    "df['class of diagnosis'].value_counts()"
   ]
  },
  {
   "cell_type": "markdown",
   "metadata": {},
   "source": [
    "## Pre-processing"
   ]
  },
  {
   "cell_type": "markdown",
   "metadata": {},
   "source": [
    "Identification of numerical and categorical variables"
   ]
  },
  {
   "cell_type": "code",
   "execution_count": 175,
   "metadata": {},
   "outputs": [],
   "source": [
    "cat = ['gender',\n",
    " 'city',\n",
    " 'asbestos exposure',\n",
    " 'type of MM',\n",
    " 'keep side',\n",
    " 'cytology',\n",
    " 'dyspnoea',\n",
    " 'ache on chest',\n",
    " 'weakness',\n",
    " 'habit of cigarette',\n",
    " 'performance status',\n",
    " 'hemoglobin (HGB)',\n",
    " 'dead or not',\n",
    " 'pleural effusion',\n",
    " 'pleural thickness on tomography',\n",
    " 'pleural level of acidity (pH)']\n",
    "\n",
    "num = ['age',\n",
    " 'duration of asbestos exposure',\n",
    " 'duration of symptoms',\n",
    " 'white blood',\n",
    " 'cell count (WBC)',\n",
    " 'platelet count (PLT)',\n",
    " 'sedimentation',\n",
    " 'blood lactic dehydrogenise (LDH)',\n",
    " 'alkaline phosphatise (ALP)',\n",
    " 'total protein',\n",
    " 'albumin',\n",
    " 'glucose',\n",
    " 'pleural lactic dehydrogenise',\n",
    " 'pleural protein',\n",
    " 'pleural albumin',\n",
    " 'pleural glucose',\n",
    " 'C-reactive protein (CRP)']"
   ]
  },
  {
   "cell_type": "code",
   "execution_count": 174,
   "metadata": {},
   "outputs": [],
   "source": [
    "# cat = []\n",
    "# num = []\n",
    "# for c in df.columns:\n",
    "#     if (c == 'class of diagnosis'):\n",
    "#         break\n",
    "#     n = df[c].value_counts().shape[0]\n",
    "#     print('Column %s: %d distinct values' % (c, n), end='')\n",
    "#     if n < 10:\n",
    "#         print(' <---- categorical')\n",
    "#         cat.append(c)\n",
    "#     else:\n",
    "#         print()\n",
    "#         num.append(c)"
   ]
  },
  {
   "cell_type": "code",
   "execution_count": 176,
   "metadata": {},
   "outputs": [],
   "source": [
    "df_cat = pd.get_dummies(data=df[cat].astype(object), drop_first=False)\n",
    "df_num = df[num].copy()"
   ]
  },
  {
   "cell_type": "code",
   "execution_count": 177,
   "metadata": {},
   "outputs": [],
   "source": [
    "X = pd.concat([df_cat, df_num],axis=1)\n",
    "y = df['class of diagnosis'].map({1: 0, 2: 1}).values"
   ]
  },
  {
   "cell_type": "code",
   "execution_count": 178,
   "metadata": {},
   "outputs": [],
   "source": [
    "sc = StandardScaler()\n",
    "X_norm = sc.fit_transform(X.values)"
   ]
  },
  {
   "cell_type": "code",
   "execution_count": 179,
   "metadata": {},
   "outputs": [],
   "source": [
    "clf = LogisticRegression(penalty='l1', solver='liblinear',\n",
    "                         tol=1e-6, max_iter=int(1e6),\n",
    "                         warm_start=True, random_state=0)"
   ]
  },
  {
   "cell_type": "code",
   "execution_count": 180,
   "metadata": {},
   "outputs": [],
   "source": [
    "skf = StratifiedKFold(n_splits=4, shuffle=True, random_state=0)"
   ]
  },
  {
   "cell_type": "code",
   "execution_count": 181,
   "metadata": {},
   "outputs": [
    {
     "name": "stdout",
     "output_type": "stream",
     "text": [
      "[0.61769006 0.7251462  0.58845029 0.70540936]\n",
      "0.6591739766081871\n"
     ]
    }
   ],
   "source": [
    "print(cross_val_score(clf, X_norm, y, cv=skf, scoring='roc_auc'))\n",
    "print(cross_val_score(clf, X_norm, y, cv=skf, scoring='roc_auc').mean())"
   ]
  },
  {
   "cell_type": "code",
   "execution_count": 182,
   "metadata": {},
   "outputs": [
    {
     "name": "stdout",
     "output_type": "stream",
     "text": [
      "[0.35897436 0.38888889 0.34146341 0.5106383 ]\n",
      "0.3999912400924337\n"
     ]
    }
   ],
   "source": [
    "print(cross_val_score(clf, X_norm, y, cv=skf, scoring='f1'))\n",
    "print(cross_val_score(clf, X_norm, y, cv=skf, scoring='f1').mean())"
   ]
  },
  {
   "cell_type": "code",
   "execution_count": 183,
   "metadata": {},
   "outputs": [],
   "source": [
    "from sklearn.model_selection import train_test_split\n",
    "X_train, X_test, y_train, y_test = train_test_split(X_norm, y,\n",
    "                                                    random_state=0,\n",
    "                                                    stratify=y, \n",
    "                                                    test_size=0.25)"
   ]
  },
  {
   "cell_type": "code",
   "execution_count": 184,
   "metadata": {},
   "outputs": [
    {
     "name": "stdout",
     "output_type": "stream",
     "text": [
      "Computing regularization path ...\n",
      "***\tAUC: 0.5274\t-\tF1-Score: 0.1935\t-\tEliminate 59 features\n",
      "\tAUC: 0.5274\t-\tF1-Score: 0.1935\t-\tEliminate 59 features\n",
      "\tAUC: 0.5274\t-\tF1-Score: 0.1935\t-\tEliminate 59 features\n",
      "\tAUC: 0.5274\t-\tF1-Score: 0.1935\t-\tEliminate 58 features\n",
      "\tAUC: 0.5274\t-\tF1-Score: 0.1935\t-\tEliminate 54 features\n",
      "\tAUC: 0.5274\t-\tF1-Score: 0.1935\t-\tEliminate 52 features\n",
      "\tAUC: 0.5274\t-\tF1-Score: 0.1935\t-\tEliminate 52 features\n",
      "\tAUC: 0.5274\t-\tF1-Score: 0.1935\t-\tEliminate 48 features\n",
      "\tAUC: 0.5274\t-\tF1-Score: 0.1935\t-\tEliminate 44 features\n",
      "\tAUC: 0.5274\t-\tF1-Score: 0.1935\t-\tEliminate 40 features\n",
      "\tAUC: 0.5186\t-\tF1-Score: 0.1875\t-\tEliminate 34 features\n",
      "\tAUC: 0.5186\t-\tF1-Score: 0.1875\t-\tEliminate 33 features\n",
      "***\tAUC: 0.5636\t-\tF1-Score: 0.3243\t-\tEliminate 31 features\n",
      "***\tAUC: 0.5724\t-\tF1-Score: 0.3333\t-\tEliminate 29 features\n",
      "***\tAUC: 0.5932\t-\tF1-Score: 0.3784\t-\tEliminate 29 features\n",
      "\tAUC: 0.5932\t-\tF1-Score: 0.3784\t-\tEliminate 29 features\n",
      "\tAUC: 0.5932\t-\tF1-Score: 0.3784\t-\tEliminate 28 features\n",
      "\tAUC: 0.5932\t-\tF1-Score: 0.3784\t-\tEliminate 27 features\n",
      "***\tAUC: 0.6140\t-\tF1-Score: 0.4211\t-\tEliminate 27 features\n",
      "***\tAUC: 0.6173\t-\tF1-Score: 0.4390\t-\tEliminate 24 features\n",
      "\tAUC: 0.6086\t-\tF1-Score: 0.4286\t-\tEliminate 22 features\n",
      "\tAUC: 0.5910\t-\tF1-Score: 0.4091\t-\tEliminate 20 features\n",
      "\tAUC: 0.5910\t-\tF1-Score: 0.4091\t-\tEliminate 18 features\n",
      "\tAUC: 0.5910\t-\tF1-Score: 0.4091\t-\tEliminate 18 features\n",
      "\tAUC: 0.5822\t-\tF1-Score: 0.4000\t-\tEliminate 17 features\n",
      "\tAUC: 0.5822\t-\tF1-Score: 0.4000\t-\tEliminate 12 features\n",
      "\tAUC: 0.5822\t-\tF1-Score: 0.4000\t-\tEliminate 13 features\n",
      "\tAUC: 0.5822\t-\tF1-Score: 0.4000\t-\tEliminate 13 features\n",
      "\tAUC: 0.5822\t-\tF1-Score: 0.4000\t-\tEliminate 13 features\n",
      "\tAUC: 0.5822\t-\tF1-Score: 0.4000\t-\tEliminate 13 features\n",
      "This took 0.180s\n"
     ]
    },
    {
     "data": {
      "image/png": "[encoded data removed]",
      "text/plain": [
       "<Figure size 1080x360 with 2 Axes>"
      ]
     },
     "metadata": {
      "needs_background": "light"
     },
     "output_type": "display_data"
    }
   ],
   "source": [
    "cs = l1_min_c(X_norm, y, loss='log') * np.logspace(0.5, 2, 30)\n",
    "\n",
    "print(\"Computing regularization path ...\")\n",
    "start = time()\n",
    "coefs_ = []\n",
    "auc_ = []\n",
    "f1_ = []\n",
    "max_auc = 0\n",
    "for c in cs:\n",
    "    clf.set_params(C=c)\n",
    "    clf.fit(X_train, y_train)\n",
    "    coefs_.append(clf.coef_.ravel().copy())\n",
    "    auc = roc_auc_score(y_test, clf.predict(X_test))\n",
    "    f1 = f1_score(y_test, clf.predict(X_test))\n",
    "    auc_.append(auc)\n",
    "    f1_.append(f1)\n",
    "    if(auc>max_auc):\n",
    "        print('***\\tAUC: %.4f\\t-\\tF1-Score: %.4f\\t-\\tEliminate %d features' % \n",
    "              (auc, f1, np.where(clf.coef_.ravel()==0)[0].shape[0]))\n",
    "        max_auc = auc\n",
    "    else:\n",
    "        print('\\tAUC: %.4f\\t-\\tF1-Score: %.4f\\t-\\tEliminate %d features' % \n",
    "              (auc, f1, np.where(clf.coef_.ravel()==0)[0].shape[0]))\n",
    "print(\"This took %0.3fs\" % (time() - start))\n",
    "\n",
    "coefs_ = np.array(coefs_)\n",
    "fig, ax = plt.subplots(nrows=1, ncols=2, figsize=((15,5)))\n",
    "ax[0].plot(np.log10(cs), coefs_, marker='o')\n",
    "ax[0].set_xlabel('log(C)'); ax[0].set_ylabel('Coefficients'); ax[0].set_title('Logistic Regression Path')\n",
    "\n",
    "ax[1].plot(np.log10(cs), auc_)\n",
    "ax[1].set_xlabel('log(C)'); ax[1].set_ylabel('AUC'); ax[1].set_title('Logistic Regression Path')\n",
    "\n",
    "plt.show()"
   ]
  },
  {
   "cell_type": "code",
   "execution_count": 335,
   "metadata": {},
   "outputs": [
    {
     "name": "stdout",
     "output_type": "stream",
     "text": [
      "Relevant Features remaining: 23\n",
      "\n",
      "['C-reactive protein (CRP)' 'age' 'alkaline phosphatise (ALP)'\n",
      " 'cell count (WBC)' 'city' 'cytology' 'duration of asbestos exposure'\n",
      " 'duration of symptoms' 'dyspnoea' 'gender' 'habit of cigarette'\n",
      " 'hemoglobin (HGB)' 'keep side' 'performance status'\n",
      " 'platelet count (PLT)' 'pleural albumin' 'pleural glucose'\n",
      " 'pleural level of acidity (pH)' 'pleural thickness on tomography'\n",
      " 'sedimentation' 'total protein' 'type of MM' 'weakness']\n",
      "\n",
      "\n",
      "Dropped features: 10\n",
      "\n",
      "['ache on chest' 'albumin' 'asbestos exposure'\n",
      " 'blood lactic dehydrogenise (LDH)' 'dead or not' 'glucose'\n",
      " 'pleural effusion' 'pleural lactic dehydrogenise' 'pleural protein'\n",
      " 'white blood']\n"
     ]
    }
   ],
   "source": [
    "final_coefs = coefs_[np.argmax(auc_)]\n",
    "\n",
    "feats = np.unique([x.split('_')[0] for x in X.iloc[:,np.where(final_coefs != 0)[0]].columns])\n",
    "print('Relevant Features remaining: %d\\n' % (feats.shape[0]))\n",
    "print(feats)\n",
    "\n",
    "dropped = np.unique([x for x in cat+num if x not in feats])\n",
    "print('\\n\\nDropped features: %d\\n' % (dropped.shape[0]))\n",
    "print(dropped)"
   ]
  },
  {
   "cell_type": "code",
   "execution_count": 309,
   "metadata": {},
   "outputs": [],
   "source": [
    "gs = GridSearchCV(LinearSVC(random_state=0, tol=1e-6, max_iter=int(1e6)), \n",
    "                  {'C': cs,\n",
    "                   'class_weight': ['balanced', None]}, scoring='accuracy',\n",
    "                  cv=skf, n_jobs=-1).fit(X_norm[:,np.where(final_coefs != 0)[0]],y)"
   ]
  },
  {
   "cell_type": "code",
   "execution_count": 310,
   "metadata": {},
   "outputs": [
    {
     "data": {
      "text/plain": [
       "{'C': 0.053973452882764276, 'class_weight': None}"
      ]
     },
     "execution_count": 310,
     "metadata": {},
     "output_type": "execute_result"
    }
   ],
   "source": [
    "gs.best_params_"
   ]
  },
  {
   "cell_type": "code",
   "execution_count": 311,
   "metadata": {},
   "outputs": [],
   "source": [
    "clf = LinearSVC(random_state=0, tol=1e-6, max_iter=int(1e6), **gs.best_params_)"
   ]
  },
  {
   "cell_type": "code",
   "execution_count": 312,
   "metadata": {},
   "outputs": [
    {
     "name": "stdout",
     "output_type": "stream",
     "text": [
      "[0.67909357 0.76315789 0.6125731  0.72295322]\n",
      "0.6944444444444445\n"
     ]
    }
   ],
   "source": [
    "print(cross_val_score(clf, X_norm[:,np.where(final_coefs != 0)[0]], y, cv=skf, scoring='roc_auc'))\n",
    "print(cross_val_score(clf, X_norm[:,np.where(final_coefs != 0)[0]], y, cv=skf, scoring='roc_auc').mean())"
   ]
  },
  {
   "cell_type": "code",
   "execution_count": 313,
   "metadata": {},
   "outputs": [
    {
     "name": "stdout",
     "output_type": "stream",
     "text": [
      "[0.3030303  0.44444444 0.35897436 0.53333333]\n",
      "0.4099456099456099\n"
     ]
    }
   ],
   "source": [
    "print(cross_val_score(clf, X_norm[:,np.where(final_coefs != 0)[0]], y, cv=skf, scoring='f1'))\n",
    "print(cross_val_score(clf, X_norm[:,np.where(final_coefs != 0)[0]], y, cv=skf, scoring='f1').mean())"
   ]
  },
  {
   "cell_type": "code",
   "execution_count": 314,
   "metadata": {},
   "outputs": [
    {
     "name": "stdout",
     "output_type": "stream",
     "text": [
      "[0.71604938 0.75308642 0.69135802 0.74074074]\n",
      "0.7253086419753085\n"
     ]
    }
   ],
   "source": [
    "print(cross_val_score(clf, X_norm[:,np.where(final_coefs != 0)[0]], y, cv=skf, scoring='accuracy'))\n",
    "print(cross_val_score(clf, X_norm[:,np.where(final_coefs != 0)[0]], y, cv=skf, scoring='accuracy').mean())"
   ]
  },
  {
   "cell_type": "code",
   "execution_count": 302,
   "metadata": {},
   "outputs": [],
   "source": [
    "# clf.fit(X_train[:,np.where(final_coefs != 0)[0]], y_train)\n",
    "# acc = accuracy_score(y_test, clf.predict(X_test[:,np.where(final_coefs != 0)[0]]))\n",
    "# auc = roc_auc_score(y_test, clf.predict(X_test[:,np.where(final_coefs != 0)[0]]))\n",
    "# f1 = f1_score(y_test, clf.predict(X_test[:,np.where(final_coefs != 0)[0]]))\n",
    "# print('Acc: %.4f\\nAUC: %.4f\\nF1 Score: %.4f' % (acc, auc, f1))"
   ]
  },
  {
   "cell_type": "code",
   "execution_count": 354,
   "metadata": {},
   "outputs": [],
   "source": [
    "ids = ['age', 'gender', 'city', 'asbestos exposure', 'type of mm',\n",
    "       'duration of asbestos exposure', 'keep side', 'cytology',\n",
    "       'duration of symptoms', 'dyspnea', 'ache on chest', 'weakness',\n",
    "       'habit of cigarette', 'performance status', 'white blood',\n",
    "       'cell count (wbc)', 'hemoglobin (hgb)', 'platelet count (plt)',\n",
    "       'sedimentation', 'blood lactic dehydrogenize (ldh)',\n",
    "       'alkaline phosphate (alp)', 'total protein', 'albumin', 'glucose',\n",
    "       'pleural lactic dehydrogenize', 'pleural protein',\n",
    "       'pleural albumin', 'pleural glucose', 'dead or not',\n",
    "       'pleural effusion', 'pleural thickness on tomography',\n",
    "       'pleural level of acidity (ph)', 'c reactive protein (crp)']\n",
    "\n",
    "corr = ['0.066', '0.155', '0.029', '0.079', '0.134', '0.069', '0.105',\n",
    "       '0.029', '0.022', '0.026', '0.050', '0.060', '0.055', '0.039',\n",
    "       '0.050', '0.052', '0.032', '0.065', '0.006', '0.014', '0.041',\n",
    "       '0.018', '0.041', '0.014', '0.036', '0.035', '0.071', '0.016',\n",
    "       '0.039', '0.031', '0.011', '0.041', '0.118']"
   ]
  },
  {
   "cell_type": "code",
   "execution_count": 356,
   "metadata": {},
   "outputs": [],
   "source": [
    "correlation = pd.DataFrame({'feature': ids, 'corr': corr}).sort_values('corr', ascending=True).reset_index(drop=True)"
   ]
  },
  {
   "cell_type": "code",
   "execution_count": 358,
   "metadata": {},
   "outputs": [],
   "source": [
    "def is_dropped(x):\n",
    "    if x in dropped:\n",
    "        return 1\n",
    "    return 0\n",
    "\n",
    "correlation['is_dropped'] = correlation.feature.apply(is_dropped)"
   ]
  },
  {
   "cell_type": "code",
   "execution_count": 359,
   "metadata": {},
   "outputs": [
    {
     "data": {
      "text/html": [
       "<div>\n",
       "<style scoped>\n",
       "    .dataframe tbody tr th:only-of-type {\n",
       "        vertical-align: middle;\n",
       "    }\n",
       "\n",
       "    .dataframe tbody tr th {\n",
       "        vertical-align: top;\n",
       "    }\n",
       "\n",
       "    .dataframe thead th {\n",
       "        text-align: right;\n",
       "    }\n",
       "</style>\n",
       "<table border=\"1\" class=\"dataframe\">\n",
       "  <thead>\n",
       "    <tr style=\"text-align: right;\">\n",
       "      <th></th>\n",
       "      <th>feature</th>\n",
       "      <th>corr</th>\n",
       "      <th>is_dropped</th>\n",
       "    </tr>\n",
       "  </thead>\n",
       "  <tbody>\n",
       "    <tr>\n",
       "      <th>0</th>\n",
       "      <td>sedimentation</td>\n",
       "      <td>0.006</td>\n",
       "      <td>0</td>\n",
       "    </tr>\n",
       "    <tr>\n",
       "      <th>1</th>\n",
       "      <td>pleural thickness on tomography</td>\n",
       "      <td>0.011</td>\n",
       "      <td>0</td>\n",
       "    </tr>\n",
       "    <tr>\n",
       "      <th>2</th>\n",
       "      <td>blood lactic dehydrogenize (ldh)</td>\n",
       "      <td>0.014</td>\n",
       "      <td>0</td>\n",
       "    </tr>\n",
       "    <tr>\n",
       "      <th>3</th>\n",
       "      <td>glucose</td>\n",
       "      <td>0.014</td>\n",
       "      <td>1</td>\n",
       "    </tr>\n",
       "    <tr>\n",
       "      <th>4</th>\n",
       "      <td>pleural glucose</td>\n",
       "      <td>0.016</td>\n",
       "      <td>0</td>\n",
       "    </tr>\n",
       "    <tr>\n",
       "      <th>5</th>\n",
       "      <td>total protein</td>\n",
       "      <td>0.018</td>\n",
       "      <td>0</td>\n",
       "    </tr>\n",
       "    <tr>\n",
       "      <th>6</th>\n",
       "      <td>duration of symptoms</td>\n",
       "      <td>0.022</td>\n",
       "      <td>0</td>\n",
       "    </tr>\n",
       "    <tr>\n",
       "      <th>7</th>\n",
       "      <td>dyspnea</td>\n",
       "      <td>0.026</td>\n",
       "      <td>0</td>\n",
       "    </tr>\n",
       "    <tr>\n",
       "      <th>8</th>\n",
       "      <td>city</td>\n",
       "      <td>0.029</td>\n",
       "      <td>0</td>\n",
       "    </tr>\n",
       "    <tr>\n",
       "      <th>9</th>\n",
       "      <td>cytology</td>\n",
       "      <td>0.029</td>\n",
       "      <td>0</td>\n",
       "    </tr>\n",
       "    <tr>\n",
       "      <th>10</th>\n",
       "      <td>pleural effusion</td>\n",
       "      <td>0.031</td>\n",
       "      <td>1</td>\n",
       "    </tr>\n",
       "    <tr>\n",
       "      <th>11</th>\n",
       "      <td>hemoglobin (hgb)</td>\n",
       "      <td>0.032</td>\n",
       "      <td>0</td>\n",
       "    </tr>\n",
       "    <tr>\n",
       "      <th>12</th>\n",
       "      <td>pleural protein</td>\n",
       "      <td>0.035</td>\n",
       "      <td>1</td>\n",
       "    </tr>\n",
       "    <tr>\n",
       "      <th>13</th>\n",
       "      <td>pleural lactic dehydrogenize</td>\n",
       "      <td>0.036</td>\n",
       "      <td>0</td>\n",
       "    </tr>\n",
       "    <tr>\n",
       "      <th>14</th>\n",
       "      <td>dead or not</td>\n",
       "      <td>0.039</td>\n",
       "      <td>1</td>\n",
       "    </tr>\n",
       "    <tr>\n",
       "      <th>15</th>\n",
       "      <td>performance status</td>\n",
       "      <td>0.039</td>\n",
       "      <td>0</td>\n",
       "    </tr>\n",
       "    <tr>\n",
       "      <th>16</th>\n",
       "      <td>pleural level of acidity (ph)</td>\n",
       "      <td>0.041</td>\n",
       "      <td>0</td>\n",
       "    </tr>\n",
       "    <tr>\n",
       "      <th>17</th>\n",
       "      <td>alkaline phosphate (alp)</td>\n",
       "      <td>0.041</td>\n",
       "      <td>0</td>\n",
       "    </tr>\n",
       "    <tr>\n",
       "      <th>18</th>\n",
       "      <td>albumin</td>\n",
       "      <td>0.041</td>\n",
       "      <td>1</td>\n",
       "    </tr>\n",
       "    <tr>\n",
       "      <th>19</th>\n",
       "      <td>white blood</td>\n",
       "      <td>0.050</td>\n",
       "      <td>1</td>\n",
       "    </tr>\n",
       "    <tr>\n",
       "      <th>20</th>\n",
       "      <td>ache on chest</td>\n",
       "      <td>0.050</td>\n",
       "      <td>1</td>\n",
       "    </tr>\n",
       "    <tr>\n",
       "      <th>21</th>\n",
       "      <td>cell count (wbc)</td>\n",
       "      <td>0.052</td>\n",
       "      <td>0</td>\n",
       "    </tr>\n",
       "    <tr>\n",
       "      <th>22</th>\n",
       "      <td>habit of cigarette</td>\n",
       "      <td>0.055</td>\n",
       "      <td>0</td>\n",
       "    </tr>\n",
       "    <tr>\n",
       "      <th>23</th>\n",
       "      <td>weakness</td>\n",
       "      <td>0.060</td>\n",
       "      <td>0</td>\n",
       "    </tr>\n",
       "    <tr>\n",
       "      <th>24</th>\n",
       "      <td>platelet count (plt)</td>\n",
       "      <td>0.065</td>\n",
       "      <td>0</td>\n",
       "    </tr>\n",
       "    <tr>\n",
       "      <th>25</th>\n",
       "      <td>age</td>\n",
       "      <td>0.066</td>\n",
       "      <td>0</td>\n",
       "    </tr>\n",
       "    <tr>\n",
       "      <th>26</th>\n",
       "      <td>duration of asbestos exposure</td>\n",
       "      <td>0.069</td>\n",
       "      <td>0</td>\n",
       "    </tr>\n",
       "    <tr>\n",
       "      <th>27</th>\n",
       "      <td>pleural albumin</td>\n",
       "      <td>0.071</td>\n",
       "      <td>0</td>\n",
       "    </tr>\n",
       "    <tr>\n",
       "      <th>28</th>\n",
       "      <td>asbestos exposure</td>\n",
       "      <td>0.079</td>\n",
       "      <td>1</td>\n",
       "    </tr>\n",
       "    <tr>\n",
       "      <th>29</th>\n",
       "      <td>keep side</td>\n",
       "      <td>0.105</td>\n",
       "      <td>0</td>\n",
       "    </tr>\n",
       "    <tr>\n",
       "      <th>30</th>\n",
       "      <td>c reactive protein (crp)</td>\n",
       "      <td>0.118</td>\n",
       "      <td>0</td>\n",
       "    </tr>\n",
       "    <tr>\n",
       "      <th>31</th>\n",
       "      <td>type of mm</td>\n",
       "      <td>0.134</td>\n",
       "      <td>0</td>\n",
       "    </tr>\n",
       "    <tr>\n",
       "      <th>32</th>\n",
       "      <td>gender</td>\n",
       "      <td>0.155</td>\n",
       "      <td>0</td>\n",
       "    </tr>\n",
       "  </tbody>\n",
       "</table>\n",
       "</div>"
      ],
      "text/plain": [
       "                             feature   corr  is_dropped\n",
       "0                      sedimentation  0.006           0\n",
       "1    pleural thickness on tomography  0.011           0\n",
       "2   blood lactic dehydrogenize (ldh)  0.014           0\n",
       "3                            glucose  0.014           1\n",
       "4                    pleural glucose  0.016           0\n",
       "5                      total protein  0.018           0\n",
       "6               duration of symptoms  0.022           0\n",
       "7                            dyspnea  0.026           0\n",
       "8                               city  0.029           0\n",
       "9                           cytology  0.029           0\n",
       "10                  pleural effusion  0.031           1\n",
       "11                  hemoglobin (hgb)  0.032           0\n",
       "12                   pleural protein  0.035           1\n",
       "13      pleural lactic dehydrogenize  0.036           0\n",
       "14                       dead or not  0.039           1\n",
       "15                performance status  0.039           0\n",
       "16     pleural level of acidity (ph)  0.041           0\n",
       "17          alkaline phosphate (alp)  0.041           0\n",
       "18                           albumin  0.041           1\n",
       "19                       white blood  0.050           1\n",
       "20                     ache on chest  0.050           1\n",
       "21                  cell count (wbc)  0.052           0\n",
       "22                habit of cigarette  0.055           0\n",
       "23                          weakness  0.060           0\n",
       "24              platelet count (plt)  0.065           0\n",
       "25                               age  0.066           0\n",
       "26     duration of asbestos exposure  0.069           0\n",
       "27                   pleural albumin  0.071           0\n",
       "28                 asbestos exposure  0.079           1\n",
       "29                         keep side  0.105           0\n",
       "30          c reactive protein (crp)  0.118           0\n",
       "31                        type of mm  0.134           0\n",
       "32                            gender  0.155           0"
      ]
     },
     "execution_count": 359,
     "metadata": {},
     "output_type": "execute_result"
    }
   ],
   "source": [
    "correlation"
   ]
  },
  {
   "cell_type": "code",
   "execution_count": null,
   "metadata": {},
   "outputs": [],
   "source": []
  }
 ],
 "metadata": {
  "kernelspec": {
   "display_name": "Python 3",
   "language": "python",
   "name": "python3"
  },
  "language_info": {
   "codemirror_mode": {
    "name": "ipython",
    "version": 3
   },
   "file_extension": ".py",
   "mimetype": "text/x-python",
   "name": "python",
   "nbconvert_exporter": "python",
   "pygments_lexer": "ipython3",
   "version": "3.7.1"
  }
 },
 "nbformat": 4,
 "nbformat_minor": 2
}
