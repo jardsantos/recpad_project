{
 "cells": [
  {
   "cell_type": "markdown",
   "metadata": {},
   "source": [
    "## Imports"
   ]
  },
  {
   "cell_type": "code",
   "execution_count": 1,
   "metadata": {},
   "outputs": [],
   "source": [
    "import pandas as pd\n",
    "import numpy as np\n",
    "import matplotlib.pyplot as plt\n",
    "from sklearn.linear_model import LogisticRegression\n",
    "from sklearn.preprocessing import StandardScaler\n",
    "from sklearn.model_selection import train_test_split, StratifiedKFold, cross_val_score, GridSearchCV\n",
    "from sklearn.svm import l1_min_c, SVC\n",
    "from time import time\n",
    "from sklearn.metrics import accuracy_score, roc_auc_score, f1_score\n",
    "import warnings\n",
    "\n",
    "warnings.simplefilter('ignore')"
   ]
  },
  {
   "cell_type": "markdown",
   "metadata": {},
   "source": [
    "## Reading Data"
   ]
  },
  {
   "cell_type": "code",
   "execution_count": 2,
   "metadata": {},
   "outputs": [],
   "source": [
    "# Data Link\n",
    "data = 'https://archive.ics.uci.edu/ml/machine-learning-databases/00351/Mesothelioma%20data%20set.xlsx'"
   ]
  },
  {
   "cell_type": "code",
   "execution_count": 3,
   "metadata": {},
   "outputs": [
    {
     "name": "stdout",
     "output_type": "stream",
     "text": [
      "Column headings:\n",
      "Index(['age', 'gender', 'city', 'asbestos exposure', 'type of MM',\n",
      "       'duration of asbestos exposure', 'keep side', 'cytology',\n",
      "       'duration of symptoms', 'dyspnoea', 'ache on chest', 'weakness',\n",
      "       'habit of cigarette', 'performance status', 'white blood',\n",
      "       'cell count (WBC)', 'hemoglobin (HGB)', 'platelet count (PLT)',\n",
      "       'sedimentation', 'blood lactic dehydrogenise (LDH)',\n",
      "       'alkaline phosphatise (ALP)', 'total protein', 'albumin', 'glucose',\n",
      "       'pleural lactic dehydrogenise', 'pleural protein', 'pleural albumin',\n",
      "       'pleural glucose', 'dead or not', 'pleural effusion',\n",
      "       'pleural thickness on tomography', 'pleural level of acidity (pH)',\n",
      "       'C-reactive protein (CRP)', 'class of diagnosis'],\n",
      "      dtype='object')\n"
     ]
    }
   ],
   "source": [
    "df = pd.read_excel(data, sheet_name='Data').drop('diagnosis method', axis=1)\n",
    "\n",
    "print(\"Column headings:\")\n",
    "print(df.columns)"
   ]
  },
  {
   "cell_type": "code",
   "execution_count": 4,
   "metadata": {},
   "outputs": [
    {
     "data": {
      "text/html": [
       "<div>\n",
       "<style scoped>\n",
       "    .dataframe tbody tr th:only-of-type {\n",
       "        vertical-align: middle;\n",
       "    }\n",
       "\n",
       "    .dataframe tbody tr th {\n",
       "        vertical-align: top;\n",
       "    }\n",
       "\n",
       "    .dataframe thead th {\n",
       "        text-align: right;\n",
       "    }\n",
       "</style>\n",
       "<table border=\"1\" class=\"dataframe\">\n",
       "  <thead>\n",
       "    <tr style=\"text-align: right;\">\n",
       "      <th></th>\n",
       "      <th>age</th>\n",
       "      <th>gender</th>\n",
       "      <th>city</th>\n",
       "      <th>asbestos exposure</th>\n",
       "      <th>type of MM</th>\n",
       "      <th>duration of asbestos exposure</th>\n",
       "      <th>keep side</th>\n",
       "      <th>cytology</th>\n",
       "      <th>duration of symptoms</th>\n",
       "      <th>dyspnoea</th>\n",
       "      <th>...</th>\n",
       "      <th>pleural lactic dehydrogenise</th>\n",
       "      <th>pleural protein</th>\n",
       "      <th>pleural albumin</th>\n",
       "      <th>pleural glucose</th>\n",
       "      <th>dead or not</th>\n",
       "      <th>pleural effusion</th>\n",
       "      <th>pleural thickness on tomography</th>\n",
       "      <th>pleural level of acidity (pH)</th>\n",
       "      <th>C-reactive protein (CRP)</th>\n",
       "      <th>class of diagnosis</th>\n",
       "    </tr>\n",
       "  </thead>\n",
       "  <tbody>\n",
       "    <tr>\n",
       "      <th>0</th>\n",
       "      <td>47.0</td>\n",
       "      <td>1</td>\n",
       "      <td>0</td>\n",
       "      <td>1</td>\n",
       "      <td>0.0</td>\n",
       "      <td>20.0</td>\n",
       "      <td>0</td>\n",
       "      <td>1</td>\n",
       "      <td>24.0</td>\n",
       "      <td>1</td>\n",
       "      <td>...</td>\n",
       "      <td>289.0</td>\n",
       "      <td>0.0</td>\n",
       "      <td>0.00</td>\n",
       "      <td>79.0</td>\n",
       "      <td>1</td>\n",
       "      <td>0.0</td>\n",
       "      <td>0.0</td>\n",
       "      <td>0.0</td>\n",
       "      <td>34</td>\n",
       "      <td>1</td>\n",
       "    </tr>\n",
       "    <tr>\n",
       "      <th>1</th>\n",
       "      <td>55.0</td>\n",
       "      <td>1</td>\n",
       "      <td>0</td>\n",
       "      <td>1</td>\n",
       "      <td>0.0</td>\n",
       "      <td>45.0</td>\n",
       "      <td>0</td>\n",
       "      <td>0</td>\n",
       "      <td>1.0</td>\n",
       "      <td>1</td>\n",
       "      <td>...</td>\n",
       "      <td>7541.0</td>\n",
       "      <td>1.6</td>\n",
       "      <td>0.80</td>\n",
       "      <td>6.0</td>\n",
       "      <td>1</td>\n",
       "      <td>1.0</td>\n",
       "      <td>1.0</td>\n",
       "      <td>1.0</td>\n",
       "      <td>42</td>\n",
       "      <td>1</td>\n",
       "    </tr>\n",
       "    <tr>\n",
       "      <th>2</th>\n",
       "      <td>29.0</td>\n",
       "      <td>1</td>\n",
       "      <td>1</td>\n",
       "      <td>1</td>\n",
       "      <td>0.0</td>\n",
       "      <td>23.0</td>\n",
       "      <td>1</td>\n",
       "      <td>0</td>\n",
       "      <td>1.0</td>\n",
       "      <td>0</td>\n",
       "      <td>...</td>\n",
       "      <td>480.0</td>\n",
       "      <td>0.0</td>\n",
       "      <td>0.00</td>\n",
       "      <td>90.0</td>\n",
       "      <td>1</td>\n",
       "      <td>0.0</td>\n",
       "      <td>0.0</td>\n",
       "      <td>0.0</td>\n",
       "      <td>43</td>\n",
       "      <td>2</td>\n",
       "    </tr>\n",
       "    <tr>\n",
       "      <th>3</th>\n",
       "      <td>39.0</td>\n",
       "      <td>1</td>\n",
       "      <td>0</td>\n",
       "      <td>1</td>\n",
       "      <td>0.0</td>\n",
       "      <td>10.0</td>\n",
       "      <td>0</td>\n",
       "      <td>0</td>\n",
       "      <td>3.0</td>\n",
       "      <td>0</td>\n",
       "      <td>...</td>\n",
       "      <td>459.0</td>\n",
       "      <td>5.0</td>\n",
       "      <td>2.80</td>\n",
       "      <td>45.0</td>\n",
       "      <td>1</td>\n",
       "      <td>1.0</td>\n",
       "      <td>0.0</td>\n",
       "      <td>0.0</td>\n",
       "      <td>21</td>\n",
       "      <td>1</td>\n",
       "    </tr>\n",
       "    <tr>\n",
       "      <th>4</th>\n",
       "      <td>47.0</td>\n",
       "      <td>1</td>\n",
       "      <td>0</td>\n",
       "      <td>1</td>\n",
       "      <td>0.0</td>\n",
       "      <td>10.0</td>\n",
       "      <td>1</td>\n",
       "      <td>1</td>\n",
       "      <td>1.5</td>\n",
       "      <td>1</td>\n",
       "      <td>...</td>\n",
       "      <td>213.0</td>\n",
       "      <td>3.6</td>\n",
       "      <td>1.95</td>\n",
       "      <td>53.0</td>\n",
       "      <td>1</td>\n",
       "      <td>1.0</td>\n",
       "      <td>0.0</td>\n",
       "      <td>0.0</td>\n",
       "      <td>11</td>\n",
       "      <td>1</td>\n",
       "    </tr>\n",
       "  </tbody>\n",
       "</table>\n",
       "<p>5 rows × 34 columns</p>\n",
       "</div>"
      ],
      "text/plain": [
       "    age  gender  city  asbestos exposure  type of MM  \\\n",
       "0  47.0       1     0                  1         0.0   \n",
       "1  55.0       1     0                  1         0.0   \n",
       "2  29.0       1     1                  1         0.0   \n",
       "3  39.0       1     0                  1         0.0   \n",
       "4  47.0       1     0                  1         0.0   \n",
       "\n",
       "   duration of asbestos exposure  keep side  cytology  duration of symptoms  \\\n",
       "0                           20.0          0         1                  24.0   \n",
       "1                           45.0          0         0                   1.0   \n",
       "2                           23.0          1         0                   1.0   \n",
       "3                           10.0          0         0                   3.0   \n",
       "4                           10.0          1         1                   1.5   \n",
       "\n",
       "   dyspnoea         ...          pleural lactic dehydrogenise  \\\n",
       "0         1         ...                                 289.0   \n",
       "1         1         ...                                7541.0   \n",
       "2         0         ...                                 480.0   \n",
       "3         0         ...                                 459.0   \n",
       "4         1         ...                                 213.0   \n",
       "\n",
       "   pleural protein  pleural albumin  pleural glucose  dead or not  \\\n",
       "0              0.0             0.00             79.0            1   \n",
       "1              1.6             0.80              6.0            1   \n",
       "2              0.0             0.00             90.0            1   \n",
       "3              5.0             2.80             45.0            1   \n",
       "4              3.6             1.95             53.0            1   \n",
       "\n",
       "   pleural effusion  pleural thickness on tomography  \\\n",
       "0               0.0                              0.0   \n",
       "1               1.0                              1.0   \n",
       "2               0.0                              0.0   \n",
       "3               1.0                              0.0   \n",
       "4               1.0                              0.0   \n",
       "\n",
       "   pleural level of acidity (pH)  C-reactive protein (CRP)  class of diagnosis  \n",
       "0                            0.0                        34                   1  \n",
       "1                            1.0                        42                   1  \n",
       "2                            0.0                        43                   2  \n",
       "3                            0.0                        21                   1  \n",
       "4                            0.0                        11                   1  \n",
       "\n",
       "[5 rows x 34 columns]"
      ]
     },
     "execution_count": 4,
     "metadata": {},
     "output_type": "execute_result"
    }
   ],
   "source": [
    "df.head()"
   ]
  },
  {
   "cell_type": "markdown",
   "metadata": {},
   "source": [
    "Class of diagnosis: 1 = Health, 2 = Mesothelioma"
   ]
  },
  {
   "cell_type": "code",
   "execution_count": 5,
   "metadata": {},
   "outputs": [
    {
     "data": {
      "text/plain": [
       "1    228\n",
       "2     96\n",
       "Name: class of diagnosis, dtype: int64"
      ]
     },
     "execution_count": 5,
     "metadata": {},
     "output_type": "execute_result"
    }
   ],
   "source": [
    "df['class of diagnosis'].value_counts()"
   ]
  },
  {
   "cell_type": "markdown",
   "metadata": {},
   "source": [
    "## Pre-processing"
   ]
  },
  {
   "cell_type": "markdown",
   "metadata": {},
   "source": [
    "In this step we will separate our features into numerical and categorical.\n",
    "\n",
    "The categorical data will be discretized and the final features will be normalized with zero mean and unit variance"
   ]
  },
  {
   "cell_type": "code",
   "execution_count": 6,
   "metadata": {},
   "outputs": [],
   "source": [
    "cat = ['gender',\n",
    "       'city',\n",
    "       'asbestos exposure',\n",
    "       'type of MM',\n",
    "       'keep side',\n",
    "       'cytology',\n",
    "       'dyspnoea',\n",
    "       'ache on chest',\n",
    "       'weakness',\n",
    "       'habit of cigarette',\n",
    "       'performance status',\n",
    "       'hemoglobin (HGB)',\n",
    "       'dead or not',\n",
    "       'pleural effusion',\n",
    "       'pleural thickness on tomography',\n",
    "       'pleural level of acidity (pH)']\n",
    "\n",
    "num = ['age',\n",
    "       'duration of asbestos exposure',\n",
    "       'duration of symptoms',\n",
    "       'white blood',\n",
    "       'cell count (WBC)',\n",
    "       'platelet count (PLT)',\n",
    "       'sedimentation',\n",
    "       'blood lactic dehydrogenise (LDH)',\n",
    "       'alkaline phosphatise (ALP)',\n",
    "       'total protein',\n",
    "       'albumin',\n",
    "       'glucose',\n",
    "       'pleural lactic dehydrogenise',\n",
    "       'pleural protein',\n",
    "       'pleural albumin',\n",
    "       'pleural glucose',\n",
    "       'C-reactive protein (CRP)']\n",
    "\n",
    "df_cat = pd.get_dummies(data=df[cat].astype(object), drop_first=False) # categorical_df\n",
    "df_num = df[num].copy() # numerical_df\n",
    "\n",
    "X = pd.concat([df_cat, df_num],axis=1)\n",
    "y = df['class of diagnosis'].map({1: 0, 2: 1}).values\n",
    "\n",
    "sc = StandardScaler() # normalization\n",
    "X_norm = sc.fit_transform(X.values)"
   ]
  },
  {
   "cell_type": "markdown",
   "metadata": {},
   "source": [
    "### Logistic Regresion performance\n",
    "\n",
    "First, we will see how the Logistic Regression Classifier will perform using a stratified cross-validation."
   ]
  },
  {
   "cell_type": "code",
   "execution_count": 7,
   "metadata": {},
   "outputs": [],
   "source": [
    "lr = LogisticRegression(penalty='l1', solver='liblinear',\n",
    "                         tol=1e-6, max_iter=int(1e6),\n",
    "                         warm_start=True, random_state=0)\n",
    "\n",
    "skf = StratifiedKFold(n_splits=4, shuffle=True, random_state=0)"
   ]
  },
  {
   "cell_type": "code",
   "execution_count": 8,
   "metadata": {},
   "outputs": [
    {
     "name": "stdout",
     "output_type": "stream",
     "text": [
      "Accuracy:\t70.06%\t-\t[0.69135802 0.72839506 0.66666667 0.71604938]\n",
      "ROC_AUC:\t65.92%\t-\t[0.61769006 0.7251462  0.58845029 0.70540936]\n"
     ]
    }
   ],
   "source": [
    "print('Accuracy:\\t%.2f%%\\t-\\t' % (100*cross_val_score(lr, \n",
    "                                                     X_norm,\n",
    "                                                     y, cv=skf, scoring='accuracy').mean()), \n",
    "      end='')\n",
    "print(cross_val_score(lr, X_norm, y, cv=skf, scoring='accuracy'))\n",
    "\n",
    "print('ROC_AUC:\\t%.2f%%\\t-\\t' % (100*cross_val_score(lr, \n",
    "                                                     X_norm,\n",
    "                                                     y, cv=skf, scoring='roc_auc').mean()), \n",
    "      end='')\n",
    "print(cross_val_score(lr, X_norm, y, cv=skf, scoring='roc_auc'))"
   ]
  },
  {
   "cell_type": "markdown",
   "metadata": {},
   "source": [
    "### Optimizing Lasso regularization on LR\n",
    "\n",
    "In this step we will split the dataset in a train_test_split and optimize the L1 regularization by its hyperparameter C."
   ]
  },
  {
   "cell_type": "code",
   "execution_count": 9,
   "metadata": {},
   "outputs": [],
   "source": [
    "X_train, X_test, y_train, y_test = train_test_split(X_norm, y,\n",
    "                                                    random_state=0,\n",
    "                                                    stratify=y, \n",
    "                                                    test_size=0.25)\n",
    "\n",
    "cs = l1_min_c(X_norm, y, loss='log') * np.logspace(0.5, 2, 30) # different values of C"
   ]
  },
  {
   "cell_type": "code",
   "execution_count": 16,
   "metadata": {},
   "outputs": [
    {
     "name": "stdout",
     "output_type": "stream",
     "text": [
      "Computing regularization path ...\n",
      "***\tAUC: 0.5274\t-\tF1-Score: 0.1935\t-\tEliminate 59 features\n",
      "\tAUC: 0.5274\t-\tF1-Score: 0.1935\t-\tEliminate 59 features\n",
      "\tAUC: 0.5274\t-\tF1-Score: 0.1935\t-\tEliminate 59 features\n",
      "\tAUC: 0.5274\t-\tF1-Score: 0.1935\t-\tEliminate 58 features\n",
      "\tAUC: 0.5274\t-\tF1-Score: 0.1935\t-\tEliminate 54 features\n",
      "\tAUC: 0.5274\t-\tF1-Score: 0.1935\t-\tEliminate 52 features\n",
      "\tAUC: 0.5274\t-\tF1-Score: 0.1935\t-\tEliminate 52 features\n",
      "\tAUC: 0.5274\t-\tF1-Score: 0.1935\t-\tEliminate 48 features\n",
      "\tAUC: 0.5274\t-\tF1-Score: 0.1935\t-\tEliminate 44 features\n",
      "\tAUC: 0.5274\t-\tF1-Score: 0.1935\t-\tEliminate 40 features\n",
      "\tAUC: 0.5186\t-\tF1-Score: 0.1875\t-\tEliminate 34 features\n",
      "\tAUC: 0.5186\t-\tF1-Score: 0.1875\t-\tEliminate 33 features\n",
      "***\tAUC: 0.5636\t-\tF1-Score: 0.3243\t-\tEliminate 31 features\n",
      "***\tAUC: 0.5724\t-\tF1-Score: 0.3333\t-\tEliminate 29 features\n",
      "***\tAUC: 0.5932\t-\tF1-Score: 0.3784\t-\tEliminate 29 features\n",
      "\tAUC: 0.5932\t-\tF1-Score: 0.3784\t-\tEliminate 29 features\n",
      "\tAUC: 0.5932\t-\tF1-Score: 0.3784\t-\tEliminate 28 features\n",
      "\tAUC: 0.5932\t-\tF1-Score: 0.3784\t-\tEliminate 27 features\n",
      "***\tAUC: 0.6140\t-\tF1-Score: 0.4211\t-\tEliminate 27 features\n",
      "***\tAUC: 0.6173\t-\tF1-Score: 0.4390\t-\tEliminate 24 features\n",
      "\tAUC: 0.6086\t-\tF1-Score: 0.4286\t-\tEliminate 22 features\n",
      "\tAUC: 0.5910\t-\tF1-Score: 0.4091\t-\tEliminate 20 features\n",
      "\tAUC: 0.5910\t-\tF1-Score: 0.4091\t-\tEliminate 18 features\n",
      "\tAUC: 0.5910\t-\tF1-Score: 0.4091\t-\tEliminate 18 features\n",
      "\tAUC: 0.5822\t-\tF1-Score: 0.4000\t-\tEliminate 17 features\n",
      "\tAUC: 0.5822\t-\tF1-Score: 0.4000\t-\tEliminate 12 features\n",
      "\tAUC: 0.5822\t-\tF1-Score: 0.4000\t-\tEliminate 13 features\n",
      "\tAUC: 0.5822\t-\tF1-Score: 0.4000\t-\tEliminate 13 features\n",
      "\tAUC: 0.5822\t-\tF1-Score: 0.4000\t-\tEliminate 13 features\n",
      "\tAUC: 0.5822\t-\tF1-Score: 0.4000\t-\tEliminate 13 features\n",
      "This took 0.164s\n"
     ]
    },
    {
     "data": {
      "image/png": "[encoded data removed]",
      "text/plain": [
       "<Figure size 1080x360 with 2 Axes>"
      ]
     },
     "metadata": {
      "needs_background": "light"
     },
     "output_type": "display_data"
    }
   ],
   "source": [
    "print(\"Computing regularization path ...\")\n",
    "start = time()\n",
    "coefs_ = []\n",
    "auc_ = []\n",
    "f1_ = []\n",
    "max_auc = 0\n",
    "for c in cs:\n",
    "    lr.set_params(C=c)\n",
    "    lr.fit(X_train, y_train)\n",
    "    coefs_.append(lr.coef_.ravel().copy())\n",
    "    auc = roc_auc_score(y_test, lr.predict(X_test))\n",
    "    f1 = f1_score(y_test, lr.predict(X_test))\n",
    "    auc_.append(auc)\n",
    "    f1_.append(f1)\n",
    "    if(auc>max_auc):\n",
    "        print('***\\tAUC: %.4f\\t-\\tF1-Score: %.4f\\t-\\tEliminate %d features' % \n",
    "              (auc, f1, np.where(lr.coef_.ravel()==0)[0].shape[0]))\n",
    "        max_auc = auc\n",
    "    else:\n",
    "        print('\\tAUC: %.4f\\t-\\tF1-Score: %.4f\\t-\\tEliminate %d features' % \n",
    "              (auc, f1, np.where(lr.coef_.ravel()==0)[0].shape[0]))\n",
    "print(\"This took %0.3fs\" % (time() - start))\n",
    "\n",
    "coefs_ = np.array(coefs_)\n",
    "fig, ax = plt.subplots(nrows=1, ncols=2, figsize=((15,5)))\n",
    "ax[0].plot(np.log10(cs), coefs_, marker='o')\n",
    "ax[0].set_xlabel('log(C)'); ax[0].set_ylabel('Coefficients'); ax[0].set_title('Logistic Regression Path')\n",
    "\n",
    "ax[1].plot(np.log10(cs), auc_, color='purple')\n",
    "ax[1].set_xlabel('log(C)'); ax[1].set_ylabel('AUC'); ax[1].set_title('Logistic Regression Path')\n",
    "\n",
    "plt.show()"
   ]
  },
  {
   "cell_type": "markdown",
   "metadata": {},
   "source": [
    "Lets see which features will be really dropped (all dummies if categorical) by the L1 Regularization (coefficients will go to zero)."
   ]
  },
  {
   "cell_type": "code",
   "execution_count": 11,
   "metadata": {},
   "outputs": [
    {
     "name": "stdout",
     "output_type": "stream",
     "text": [
      "Relevant Features remaining: 23\n",
      "\n",
      "['C-reactive protein (CRP)' 'age' 'alkaline phosphatise (ALP)'\n",
      " 'cell count (WBC)' 'city' 'cytology' 'duration of asbestos exposure'\n",
      " 'duration of symptoms' 'dyspnoea' 'gender' 'habit of cigarette'\n",
      " 'hemoglobin (HGB)' 'keep side' 'performance status'\n",
      " 'platelet count (PLT)' 'pleural albumin' 'pleural glucose'\n",
      " 'pleural level of acidity (pH)' 'pleural thickness on tomography'\n",
      " 'sedimentation' 'total protein' 'type of MM' 'weakness']\n",
      "\n",
      "\n",
      "Dropped features: 10\n",
      "\n",
      "['ache on chest' 'albumin' 'asbestos exposure'\n",
      " 'blood lactic dehydrogenise (LDH)' 'dead or not' 'glucose'\n",
      " 'pleural effusion' 'pleural lactic dehydrogenise' 'pleural protein'\n",
      " 'white blood']\n"
     ]
    }
   ],
   "source": [
    "final_coefs = coefs_[np.argmax(auc_)]\n",
    "\n",
    "feats = np.unique([x.split('_')[0] for x in X.iloc[:,np.where(final_coefs != 0)[0]].columns])\n",
    "print('Relevant Features remaining: %d\\n' % (feats.shape[0]))\n",
    "print(feats)\n",
    "\n",
    "dropped = np.unique([x for x in cat+num if x not in feats])\n",
    "print('\\n\\nDropped features: %d\\n' % (dropped.shape[0]))\n",
    "print(dropped)"
   ]
  },
  {
   "cell_type": "markdown",
   "metadata": {},
   "source": [
    "## Final Model - SVM\n",
    "\n",
    "A grid search on some of the SVM Classifier hyperparams will be performed on the data with the features selected on the steps above and it will be our final model."
   ]
  },
  {
   "cell_type": "code",
   "execution_count": 12,
   "metadata": {},
   "outputs": [
    {
     "data": {
      "text/plain": [
       "{'C': 1.5151515151515151, 'class_weight': None, 'kernel': 'rbf'}"
      ]
     },
     "execution_count": 12,
     "metadata": {},
     "output_type": "execute_result"
    }
   ],
   "source": [
    "gs = GridSearchCV(SVC(random_state=0, tol=1e-6, max_iter=int(1e6)), \n",
    "                  {'C': cs,\n",
    "                   'kernel': ['linear', 'poly', 'rbf'],\n",
    "                   'class_weight': ['balanced', None]},\n",
    "                  scoring='roc_auc',\n",
    "                  cv=skf, n_jobs=-1).fit(X_norm[:,np.where(final_coefs != 0)[0]],y)\n",
    "\n",
    "svm = SVC(random_state=0, tol=1e-6, max_iter=int(1e6), **gs.best_params_)\n",
    "\n",
    "gs.best_params_"
   ]
  },
  {
   "cell_type": "markdown",
   "metadata": {},
   "source": [
    "Lets see our final metrics:"
   ]
  },
  {
   "cell_type": "code",
   "execution_count": 13,
   "metadata": {},
   "outputs": [
    {
     "name": "stdout",
     "output_type": "stream",
     "text": [
      "Accuracy:\t75.00%\t-\t[0.72839506 0.7654321  0.71604938 0.79012346]\n",
      "ROC_AUC:\t74.05%\t-\t[0.73464912 0.75584795 0.69005848 0.78143275]\n"
     ]
    }
   ],
   "source": [
    "print('Accuracy:\\t%.2f%%\\t-\\t' % (100*cross_val_score(svm, \n",
    "                                                      X_norm[:,np.where(final_coefs != 0)[0]],\n",
    "                                                      y, cv=skf, scoring='accuracy').mean()), \n",
    "      end='')\n",
    "print(cross_val_score(svm, X_norm[:,np.where(final_coefs != 0)[0]], y, cv=skf, scoring='accuracy'))\n",
    "\n",
    "print('ROC_AUC:\\t%.2f%%\\t-\\t' % (100*cross_val_score(svm, \n",
    "                                                     X_norm[:,np.where(final_coefs != 0)[0]],\n",
    "                                                     y, cv=skf, scoring='roc_auc').mean()), \n",
    "      end='')\n",
    "print(cross_val_score(svm, X_norm[:,np.where(final_coefs != 0)[0]], y, cv=skf, scoring='roc_auc'))"
   ]
  },
  {
   "cell_type": "markdown",
   "metadata": {},
   "source": [
    "Lets compare our final model if we didn't use Logistic Regression Lasso feature selection:"
   ]
  },
  {
   "cell_type": "code",
   "execution_count": 14,
   "metadata": {},
   "outputs": [
    {
     "name": "stdout",
     "output_type": "stream",
     "text": [
      "Accuracy:\t74.38%\t-\t[0.71604938 0.75308642 0.71604938 0.79012346]\n",
      "ROC_AUC:\t67.73%\t-\t[0.6622807  0.70394737 0.62207602 0.72076023]\n"
     ]
    }
   ],
   "source": [
    "print('Accuracy:\\t%.2f%%\\t-\\t' % (100*cross_val_score(svm, \n",
    "                                                     X_norm,\n",
    "                                                     y, cv=skf, scoring='accuracy').mean()), \n",
    "      end='')\n",
    "print(cross_val_score(svm, X_norm, y, cv=skf, scoring='accuracy'))\n",
    "\n",
    "print('ROC_AUC:\\t%.2f%%\\t-\\t' % (100*cross_val_score(svm, \n",
    "                                                     X_norm,\n",
    "                                                     y, cv=skf, scoring='roc_auc').mean()), \n",
    "      end='')\n",
    "print(cross_val_score(svm, X_norm, y, cv=skf, scoring='roc_auc'))"
   ]
  },
  {
   "cell_type": "code",
   "execution_count": null,
   "metadata": {},
   "outputs": [],
   "source": []
  }
 ],
 "metadata": {
  "kernelspec": {
   "display_name": "Python 3",
   "language": "python",
   "name": "python3"
  },
  "language_info": {
   "codemirror_mode": {
    "name": "ipython",
    "version": 3
   },
   "file_extension": ".py",
   "mimetype": "text/x-python",
   "name": "python",
   "nbconvert_exporter": "python",
   "pygments_lexer": "ipython3",
   "version": "3.7.1"
  }
 },
 "nbformat": 4,
 "nbformat_minor": 2
}
